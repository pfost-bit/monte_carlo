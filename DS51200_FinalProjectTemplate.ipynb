{
 "cells": [
  {
   "cell_type": "markdown",
   "id": "45762487-d33f-486d-8e38-2cdea04e3528",
   "metadata": {},
   "source": [
    "# Final Project Report\n",
    "\n",
    "* Class: DS 5100\n",
    "* Student Name:\n",
    "* Student Net ID:\n",
    "* This URL: a URL to the notebook source of this document"
   ]
  },
  {
   "cell_type": "markdown",
   "id": "acf756c1-ecaa-41dc-b6ca-d566eb94560b",
   "metadata": {},
   "source": [
    "# Instructions\n",
    "\n",
    "Follow the instructions in the Final Project isntructions notebook and put evidence of your work in this notebook.\n",
    "\n",
    "Total points for each subsection under **Deliverables** and **Scenarios** are given in parentheses.\n",
    "\n",
    "Breakdowns of points within subsections are specified within subsection instructions as bulleted lists.\n",
    "\n",
    "This project is worth **50 points**."
   ]
  },
  {
   "cell_type": "markdown",
   "id": "89dc7a32-f682-4402-8c1e-b6ccdb3e0e39",
   "metadata": {},
   "source": [
    "# Deliverables"
   ]
  },
  {
   "cell_type": "markdown",
   "id": "d32cb273-9a40-4909-a7ce-51f6e4958d3c",
   "metadata": {},
   "source": [
    "## The Monte Carlo Module (10)\n",
    "\n",
    "- URL included, appropriately named (1).\n",
    "- Includes all three specified classes (3).\n",
    "- Includes at least all 12 specified methods (6; .5 each)."
   ]
  },
  {
   "cell_type": "markdown",
   "id": "f5f3b070-de9e-4de9-bfae-8974d184aa28",
   "metadata": {},
   "source": [
    "Put the URL to your GitHub repo here.\n",
    "\n",
    "Repo URL:"
   ]
  },
  {
   "cell_type": "markdown",
   "id": "162370fb-3729-4c85-b040-8c25b2c966d2",
   "metadata": {},
   "source": [
    "Paste a copyy of your module here.\n",
    "\n",
    "NOTE: Paste as text, not as code. Use triple backticks to wrap your code blocks."
   ]
  },
  {
   "cell_type": "code",
   "execution_count": 7,
   "id": "a0743efc-a785-4b5c-a9e6-b65d4507a67f",
   "metadata": {},
   "outputs": [],
   "source": [
    "# A code block with your classes."
   ]
  },
  {
   "cell_type": "markdown",
   "id": "6377727a-8f0a-491e-9f1c-d9dc225edd35",
   "metadata": {},
   "source": [
    "## Unitest Module (2)\n",
    "\n",
    "Paste a copy of your test module below.\n",
    "\n",
    "NOTE: Paste as text, not as code. Use triple backticks to wrap your code blocks.\n",
    "\n",
    "- All methods have at least one test method (1).\n",
    "- Each method employs one of Unittest's Assert methods (1)."
   ]
  },
  {
   "cell_type": "code",
   "execution_count": 2,
   "id": "14b878d8-258b-4cf2-ad88-b8ee90d43977",
   "metadata": {},
   "outputs": [],
   "source": [
    "# A code block with your test code."
   ]
  },
  {
   "cell_type": "markdown",
   "id": "3e058d03-29bc-408f-b36d-0605b4f4b8c0",
   "metadata": {
    "tags": []
   },
   "source": [
    "## Unittest Results (3)\n",
    "\n",
    "Put a copy of the results of running your tests from the command line here.\n",
    "\n",
    "Again, paste as text using triple backticks.\n",
    "\n",
    "- All 12 specified methods return OK (3; .25 each)."
   ]
  },
  {
   "cell_type": "raw",
   "id": "54691fd0-836c-43c7-adc9-4a09d8aa9ab2",
   "metadata": {
    "tags": []
   },
   "source": [
    "# A text block with the output of a successful test."
   ]
  },
  {
   "cell_type": "markdown",
   "id": "d9ffe8c5-eb2f-4ad1-af76-a46550e4c7ac",
   "metadata": {},
   "source": [
    "## Import (1)\n",
    "\n",
    "Import your module here. This import should refer to the code in your package directory.\n",
    "\n",
    "- Module successuflly imported (1)."
   ]
  },
  {
   "cell_type": "code",
   "execution_count": 2,
   "id": "a05dffb3-e6d6-4f78-9df4-5abd0cf74ca9",
   "metadata": {
    "tags": []
   },
   "outputs": [],
   "source": [
    "import monte_carlo"
   ]
  },
  {
   "cell_type": "markdown",
   "id": "f30c4842-65b1-4556-98b6-3fe1a07e1371",
   "metadata": {},
   "source": [
    "## Help Docs (4)\n",
    "\n",
    "Show your docstring documentation by applying `help()` to your imported module.\n",
    "\n",
    "- All methods have a docstring (3; .25 each).\n",
    "- All classes have a docstring (1; .33 each)."
   ]
  },
  {
   "cell_type": "code",
   "execution_count": 54,
   "id": "bf4fbf1f-9885-471c-a0a6-e9ca90e160de",
   "metadata": {
    "tags": []
   },
   "outputs": [
    {
     "name": "stdout",
     "output_type": "stream",
     "text": [
      "Help on package monte_carlo:\n",
      "\n",
      "NAME\n",
      "    monte_carlo\n",
      "\n",
      "PACKAGE CONTENTS\n",
      "    analyzer\n",
      "    die\n",
      "    game\n",
      "\n",
      "FILE\n",
      "    z:\\semester1\\programing for ds\\finalproject\\monte_carlo\\monte_carlo\\__init__.py\n",
      "\n",
      "\n",
      "Help on class Die in module monte_carlo.die:\n",
      "\n",
      "class Die(builtins.object)\n",
      " |  Die(faces, weight=array(-0.))\n",
      " |\n",
      " |  A class which initializes a Die object. This object has a number of \"faces\", and weight \"w\". The after creation the Die object it can be rolled n number of times.\n",
      " |\n",
      " |  Methods:\n",
      " |      change_weight(weight): Changes the weight of a single face\n",
      " |      roll_die(n): rolls the die a set number of times\n",
      " |      show_die_state(): Shows the current die state\n",
      " |\n",
      " |  Attributes:\n",
      " |      faces: The number of faces a die object has. The faces argument is a numpy array. The array should be of subtypes: str or numbers.\n",
      " |      weight: The weight initializes as a weight of 1, but can be changed as needed. The weights should be passed as a np.array of weights.\n",
      " |\n",
      " |  Methods defined here:\n",
      " |\n",
      " |  __init__(self, faces, weight=array(-0.))\n",
      " |      Initialize self.  See help(type(self)) for accurate signature.\n",
      " |\n",
      " |  change_weight(self, face, new_weight)\n",
      " |      A method to change the weight of a single face.\n",
      " |\n",
      " |      args:\n",
      " |          face:\n",
      " |               The name of the Face whose weight is to be changed (should be in list of faces)\n",
      " |          new_weight:\n",
      " |               The new weight for the face (should be an number or castable as one) larger = more frequent\n",
      " |\n",
      " |  roll_die(self, n)\n",
      " |      A method to roll the die n times.\n",
      " |\n",
      " |      args:\n",
      " |          n: The number of times to roll the dice, should be an int.\n",
      " |      returns:\n",
      " |          result: a list of outcomes\n",
      " |\n",
      " |  show_die_state(self)\n",
      " |      A method to return a copy of the private die_tables state\n",
      " |\n",
      " |  ----------------------------------------------------------------------\n",
      " |  Data descriptors defined here:\n",
      " |\n",
      " |  __dict__\n",
      " |      dictionary for instance variables\n",
      " |\n",
      " |  __weakref__\n",
      " |      list of weak references to the object\n",
      "\n",
      "Help on class Game in module monte_carlo.game:\n",
      "\n",
      "class Game(builtins.object)\n",
      " |  Game(die_list)\n",
      " |\n",
      " |  A class to take a list of similar die, and play a game.\n",
      " |      A game is to roll the dice, one or more times\n",
      " |      Similar means to have the same number of \"faces\", they could have different weights, i.e. flip two coins, one fair one that prefers heads etc\n",
      " |\n",
      " |  Methods:\n",
      " |      play(rolls): A method to play a game (roll the die objects, num_of_rolls times)\n",
      " |      show_results: A method to return the results in a pd.DataFrame. Can be wide or narrow.\n",
      " |\n",
      " |  Attributes:\n",
      " |      die_list: A list of Die objects.\n",
      " |      results: A pd.DataFrame of Results. The results are the values for the each time the dice was rolled.\n",
      " |\n",
      " |  Methods defined here:\n",
      " |\n",
      " |  __init__(self, die_list)\n",
      " |      Initialize self.  See help(type(self)) for accurate signature.\n",
      " |\n",
      " |  play(self, num_of_rolls)\n",
      " |      A method to play a game a certain number of times. Stores the result in a pd.DataFrame()\n",
      " |      args:\n",
      " |          num_rolls: how many times each die is rolled.\n",
      " |      returns:\n",
      " |          self.results: changes the attribute of results\n",
      " |\n",
      " |  show_results(self, form='wide')\n",
      " |      A method to return the results of the results DataFrame. The dataframe is returned as a wide dataframe by default, and a narrow one if wanted.\n",
      " |      args:\n",
      " |          form: \"wide\" or \"narrow\" (default of \"wide)\n",
      " |      returns:\n",
      " |          self.results.copy(): A copy of the results table.\n",
      " |\n",
      " |  ----------------------------------------------------------------------\n",
      " |  Data descriptors defined here:\n",
      " |\n",
      " |  __dict__\n",
      " |      dictionary for instance variables\n",
      " |\n",
      " |  __weakref__\n",
      " |      list of weak references to the object\n",
      "\n",
      "Help on class Analyzer in module monte_carlo.analyzer:\n",
      "\n",
      "class Analyzer(builtins.object)\n",
      " |  Analyzer(game)\n",
      " |\n",
      " |  An Analyzer object takes the results of a single game and computes various descriptive statistical properties about it.\n",
      " |\n",
      " |  Methods:\n",
      " |      JackPot(): A method to determine the numnber of \"jackpots\" rolled in a game.\n",
      " |      FaceCounts(): A method to return a datframe with the total number of facecounts for each die.\n",
      " |\n",
      " |\n",
      " |  Attributes:\n",
      " |      game: The game object to analyze, must be a game object\n",
      " |\n",
      " |  Methods defined here:\n",
      " |\n",
      " |  ComboCounts(self)\n",
      " |      A method to count the counts of each combination of faces rolled.\n",
      " |\n",
      " |      returns:\n",
      " |          combo_counts: pd.DataFrame of the results. A datframe with the the Combinations and their counts\n",
      " |\n",
      " |  FaceCounts(self)\n",
      " |      A method to count the total number of each face.\n",
      " |\n",
      " |      returns:\n",
      " |          face_counts: pd.DataFrame of the results. A wide dataframe that shows how many times each face was rolled per dice.\n",
      " |\n",
      " |  JackPot(self)\n",
      " |      A method to determine how many jackpots were rolled in the game, i.e. all of the faces are the same for the die. All heads on a coin for example.\n",
      " |\n",
      " |      returns:\n",
      " |          int for the number of times all the outcomes were the same.\n",
      " |\n",
      " |  PermCounts(self)\n",
      " |      A method to count the counts of each permuatation of the face rolled.\n",
      " |\n",
      " |      returns:\n",
      " |          perm_counts: pd.DataFrame of the results.\n",
      " |\n",
      " |  __init__(self, game)\n",
      " |      Initialize self.  See help(type(self)) for accurate signature.\n",
      " |\n",
      " |  ----------------------------------------------------------------------\n",
      " |  Data descriptors defined here:\n",
      " |\n",
      " |  __dict__\n",
      " |      dictionary for instance variables\n",
      " |\n",
      " |  __weakref__\n",
      " |      list of weak references to the object\n",
      "\n"
     ]
    }
   ],
   "source": [
    "help(monte_carlo)\n",
    "help(Die) # first help on Die Class\n",
    "help(Game) # Help on Game Class\n",
    "help(Analyzer) # Help on Analyzer Class"
   ]
  },
  {
   "cell_type": "markdown",
   "id": "a9defa84-b395-4966-bd1c-5c6c2bb7ed68",
   "metadata": {},
   "source": [
    "## `README.md` File (3)\n",
    "\n",
    "Provide link to the README.md file of your project's repo.\n",
    "\n",
    "- Metadata section or info present (1).\n",
    "- Synopsis section showing how each class is called (1). (All must be included.)\n",
    "- API section listing all classes and methods (1). (All must be included.)"
   ]
  },
  {
   "cell_type": "markdown",
   "id": "ee090b33-d593-48a0-bf35-e739cea0942c",
   "metadata": {},
   "source": [
    "URL:"
   ]
  },
  {
   "cell_type": "markdown",
   "id": "108604c8-8827-42ef-ab59-6b25428fc0ca",
   "metadata": {},
   "source": [
    "## Successful installation (2)\n",
    "\n",
    "Put a screenshot or paste a copy of a terminal session where you successfully install your module with pip.\n",
    "\n",
    "If pasting text, use a preformatted text block to show the results.\n",
    "\n",
    "- Installed with `pip` (1).\n",
    "- Successfully installed message appears (1)."
   ]
  },
  {
   "cell_type": "code",
   "execution_count": 4,
   "id": "85691a0b-1625-4f64-8402-61edfdd857d2",
   "metadata": {},
   "outputs": [
    {
     "name": "stdout",
     "output_type": "stream",
     "text": [
      "Requirement already satisfied: monte_carlo in c:\\users\\pfost\\appdata\\roaming\\jupyterlab-desktop\\jlab_server\\lib\\site-packages (0.5)\n",
      "Requirement already satisfied: numpy in c:\\users\\pfost\\appdata\\roaming\\jupyterlab-desktop\\jlab_server\\lib\\site-packages (from monte_carlo) (2.1.0)\n",
      "Requirement already satisfied: pandas in c:\\users\\pfost\\appdata\\roaming\\jupyterlab-desktop\\jlab_server\\lib\\site-packages (from monte_carlo) (2.2.2)\n",
      "Requirement already satisfied: python-dateutil>=2.8.2 in c:\\users\\pfost\\appdata\\roaming\\jupyterlab-desktop\\jlab_server\\lib\\site-packages (from pandas->monte_carlo) (2.9.0)\n",
      "Requirement already satisfied: pytz>=2020.1 in c:\\users\\pfost\\appdata\\roaming\\jupyterlab-desktop\\jlab_server\\lib\\site-packages (from pandas->monte_carlo) (2024.1)\n",
      "Requirement already satisfied: tzdata>=2022.7 in c:\\users\\pfost\\appdata\\roaming\\jupyterlab-desktop\\jlab_server\\lib\\site-packages (from pandas->monte_carlo) (2024.1)\n",
      "Requirement already satisfied: six>=1.5 in c:\\users\\pfost\\appdata\\roaming\\jupyterlab-desktop\\jlab_server\\lib\\site-packages (from python-dateutil>=2.8.2->pandas->monte_carlo) (1.16.0)\n"
     ]
    }
   ],
   "source": [
    "!pip install monte_carlo"
   ]
  },
  {
   "cell_type": "markdown",
   "id": "7c44695d-d1b3-4edf-9f94-e64d7446f199",
   "metadata": {},
   "source": [
    "# Scenarios\n",
    "\n",
    "Use code blocks to perform the tasks for each scenario.\n",
    "\n",
    "Be sure the outputs are visible before submitting."
   ]
  },
  {
   "cell_type": "markdown",
   "id": "e2479eae-6fc9-44cd-b8d7-9b22cb501f2a",
   "metadata": {
    "tags": []
   },
   "source": [
    "## Scenario 1: A 2-headed Coin (9)\n",
    "\n",
    "Task 1. Create a fair coin (with faces $H$ and $T$) and one unfair coin in which one of the faces has a weight of $5$ and the others $1$.\n",
    "\n",
    "- Fair coin created (1).\n",
    "- Unfair coin created with weight as specified (1)."
   ]
  },
  {
   "cell_type": "code",
   "execution_count": 5,
   "id": "55ce498e-c75f-4425-9e3e-b635bd6cd9e1",
   "metadata": {},
   "outputs": [],
   "source": [
    "import numpy as np\n",
    "import pandas as pd\n",
    "from monte_carlo import Die, Game, Analyzer\n",
    "\n",
    "f_coin = Die(np.array([\"heads\", \"tails\"]))# normal coin\n",
    "uf_coin = Die(np.array([\"heads\",\"tails\"]),np.array([5,1])) # heads is five times as likely"
   ]
  },
  {
   "cell_type": "markdown",
   "id": "02b272ab-99da-4b6e-ac2a-555b73e09c07",
   "metadata": {},
   "source": [
    "Task 2. Play a game of $1000$ flips with two fair dice.\n",
    "\n",
    "- Play method called correclty and without error (1)."
   ]
  },
  {
   "cell_type": "code",
   "execution_count": 6,
   "id": "65c92601-d32d-4326-b215-74953aee27f2",
   "metadata": {},
   "outputs": [],
   "source": [
    "game1 = Game([f_coin, f_coin])\n",
    "game1.play(1000)"
   ]
  },
  {
   "cell_type": "markdown",
   "id": "7d9c3dc8-22c1-4cae-81fb-d68d774a05d1",
   "metadata": {},
   "source": [
    "Task 3. Play another game (using a new Game object) of $1000$ flips, this time using two unfair dice and one fair die. For the second unfair die, you can use the same die object twice in the list of dice you pass to the Game object.\n",
    "\n",
    "- New game object created (1).\n",
    "- Play method called correclty and without error (1)."
   ]
  },
  {
   "cell_type": "code",
   "execution_count": 7,
   "id": "d4098bed-1eb2-4084-8d5e-9fda07c3be43",
   "metadata": {},
   "outputs": [],
   "source": [
    "game2 = Game([uf_coin, uf_coin, f_coin])\n",
    "game2.play(1000)"
   ]
  },
  {
   "cell_type": "markdown",
   "id": "f690ebfc-fe71-4eb2-976d-7ac80ca6c23f",
   "metadata": {},
   "source": [
    "Task 4. For each game, use an Analyzer object to determine the raw frequency of jackpots — i.e. getting either all $H$s or all $T$s.\n",
    "\n",
    "- Analyzer objecs instantiated for both games (1).\n",
    "- Raw frequencies reported for both (1)."
   ]
  },
  {
   "cell_type": "code",
   "execution_count": 8,
   "id": "b26b8b7e-3be7-4476-a9a4-37d97536729e",
   "metadata": {},
   "outputs": [
    {
     "name": "stdout",
     "output_type": "stream",
     "text": [
      "The raw frequencies for the JackPots are: \n",
      " Game1: 517 and Game2:  349\n"
     ]
    }
   ],
   "source": [
    "analyze1 = Analyzer(game1)\n",
    "analyze2 = Analyzer(game2)\n",
    "\n",
    "jackpot1 = analyze1.JackPot()\n",
    "jackpot2 = analyze2.JackPot()\n",
    "\n",
    "print(\"The raw frequencies for the JackPots are: \\n\",   f\"Game1: {jackpot1} and Game2:  {jackpot2}\")"
   ]
  },
  {
   "cell_type": "markdown",
   "id": "b73d233c-445e-40cd-8858-0c5e1f097105",
   "metadata": {},
   "source": [
    "Task 5. For each analyzer, compute relative frequency as the number of jackpots over the total number of rolls.\n",
    "\n",
    "- Both relative frequencies computed (1)."
   ]
  },
  {
   "cell_type": "code",
   "execution_count": 9,
   "id": "3d4120bf-73da-4c09-b065-377a0eac6afd",
   "metadata": {},
   "outputs": [],
   "source": [
    "r_f1 = jackpot1/1000\n",
    "r_f2 = jackpot2/1000"
   ]
  },
  {
   "cell_type": "markdown",
   "id": "a6e1e734-7f5c-4721-8ba4-2f3a424cf984",
   "metadata": {},
   "source": [
    "Task 6. Show your results, comparing the two relative frequencies, in a simple bar chart.\n",
    "\n",
    "- Bar chart plotted and correct (1)."
   ]
  },
  {
   "cell_type": "code",
   "execution_count": 51,
   "id": "473fa67c-aa53-4aa3-a0b7-e8772b3f6ed3",
   "metadata": {},
   "outputs": [
    {
     "data": {
      "text/plain": [
       "<Axes: xlabel='Game'>"
      ]
     },
     "execution_count": 51,
     "metadata": {},
     "output_type": "execute_result"
    },
    {
     "data": {
      "image/png": "[encoded data removed]",
      "text/plain": [
       "<Figure size 640x480 with 1 Axes>"
      ]
     },
     "metadata": {},
     "output_type": "display_data"
    }
   ],
   "source": [
    "rf_df = pd.DataFrame({\n",
    "    \"Game\":[\"fair\",\"unfair\"],\n",
    "    \"Relative Frequencies\":[r_f1,r_f2]\n",
    "})\n",
    "\n",
    "rf_df.plot(kind = \"bar\", x=\"Game\", y = \"Relative Frequencies\")"
   ]
  },
  {
   "cell_type": "markdown",
   "id": "725cfa5b-e4b7-47c9-86aa-8d9e1fe6c8c7",
   "metadata": {},
   "source": [
    "## Scenario 2: A 6-sided Die (9)\n",
    "\n",
    "Task 1. Create three dice, each with six sides having the faces 1 through 6.\n",
    "\n",
    "- Three die objects created (1)."
   ]
  },
  {
   "cell_type": "code",
   "execution_count": 11,
   "id": "6a8bc611-325a-4e05-88d5-980e0a2cf7c5",
   "metadata": {},
   "outputs": [],
   "source": [
    "d1 = Die(np.array([1,2,3,4,5,6]))#unfair 1 is more likely\n",
    "d2 = Die(np.array([1,2,3,4,5,6]))#fair\n",
    "d3 = Die(np.array([1,2,3,4,5,6]))#unfair 6 is more likely"
   ]
  },
  {
   "cell_type": "markdown",
   "id": "2ed3ad26-fbe9-43bd-9ad7-f683a4191d12",
   "metadata": {},
   "source": [
    "Task 2. Convert one of the dice to an unfair one by weighting the face $6$ five times more than the other weights (i.e. it has weight of 5 and the others a weight of 1 each).\n",
    "\n",
    "- Unfair die created with proper call to weight change method (1)."
   ]
  },
  {
   "cell_type": "code",
   "execution_count": 12,
   "id": "e33dd18f-7f90-456d-a680-61c08a328e21",
   "metadata": {},
   "outputs": [
    {
     "data": {
      "text/html": [
       "<div>\n",
       "<style scoped>\n",
       "    .dataframe tbody tr th:only-of-type {\n",
       "        vertical-align: middle;\n",
       "    }\n",
       "\n",
       "    .dataframe tbody tr th {\n",
       "        vertical-align: top;\n",
       "    }\n",
       "\n",
       "    .dataframe thead th {\n",
       "        text-align: right;\n",
       "    }\n",
       "</style>\n",
       "<table border=\"1\" class=\"dataframe\">\n",
       "  <thead>\n",
       "    <tr style=\"text-align: right;\">\n",
       "      <th></th>\n",
       "      <th>weight</th>\n",
       "    </tr>\n",
       "  </thead>\n",
       "  <tbody>\n",
       "    <tr>\n",
       "      <th>1</th>\n",
       "      <td>1.0</td>\n",
       "    </tr>\n",
       "    <tr>\n",
       "      <th>2</th>\n",
       "      <td>1.0</td>\n",
       "    </tr>\n",
       "    <tr>\n",
       "      <th>3</th>\n",
       "      <td>1.0</td>\n",
       "    </tr>\n",
       "    <tr>\n",
       "      <th>4</th>\n",
       "      <td>1.0</td>\n",
       "    </tr>\n",
       "    <tr>\n",
       "      <th>5</th>\n",
       "      <td>1.0</td>\n",
       "    </tr>\n",
       "    <tr>\n",
       "      <th>6</th>\n",
       "      <td>5.0</td>\n",
       "    </tr>\n",
       "  </tbody>\n",
       "</table>\n",
       "</div>"
      ],
      "text/plain": [
       "   weight\n",
       "1     1.0\n",
       "2     1.0\n",
       "3     1.0\n",
       "4     1.0\n",
       "5     1.0\n",
       "6     5.0"
      ]
     },
     "execution_count": 12,
     "metadata": {},
     "output_type": "execute_result"
    }
   ],
   "source": [
    "d3.change_weight(6,5)\n",
    "d3.show_die_state()"
   ]
  },
  {
   "cell_type": "markdown",
   "id": "7f6c062a-4c5b-45b9-96b8-76a0354c7e47",
   "metadata": {},
   "source": [
    "Task 3. Convert another of the dice to be unfair by weighting the face $1$ five times more than the others.\n",
    "\n",
    "- Unfair die created with proper call to weight change method (1)."
   ]
  },
  {
   "cell_type": "code",
   "execution_count": 13,
   "id": "01133a4e-6b06-4246-8d90-8e6d6995be51",
   "metadata": {},
   "outputs": [
    {
     "data": {
      "text/html": [
       "<div>\n",
       "<style scoped>\n",
       "    .dataframe tbody tr th:only-of-type {\n",
       "        vertical-align: middle;\n",
       "    }\n",
       "\n",
       "    .dataframe tbody tr th {\n",
       "        vertical-align: top;\n",
       "    }\n",
       "\n",
       "    .dataframe thead th {\n",
       "        text-align: right;\n",
       "    }\n",
       "</style>\n",
       "<table border=\"1\" class=\"dataframe\">\n",
       "  <thead>\n",
       "    <tr style=\"text-align: right;\">\n",
       "      <th></th>\n",
       "      <th>weight</th>\n",
       "    </tr>\n",
       "  </thead>\n",
       "  <tbody>\n",
       "    <tr>\n",
       "      <th>1</th>\n",
       "      <td>5.0</td>\n",
       "    </tr>\n",
       "    <tr>\n",
       "      <th>2</th>\n",
       "      <td>1.0</td>\n",
       "    </tr>\n",
       "    <tr>\n",
       "      <th>3</th>\n",
       "      <td>1.0</td>\n",
       "    </tr>\n",
       "    <tr>\n",
       "      <th>4</th>\n",
       "      <td>1.0</td>\n",
       "    </tr>\n",
       "    <tr>\n",
       "      <th>5</th>\n",
       "      <td>1.0</td>\n",
       "    </tr>\n",
       "    <tr>\n",
       "      <th>6</th>\n",
       "      <td>1.0</td>\n",
       "    </tr>\n",
       "  </tbody>\n",
       "</table>\n",
       "</div>"
      ],
      "text/plain": [
       "   weight\n",
       "1     5.0\n",
       "2     1.0\n",
       "3     1.0\n",
       "4     1.0\n",
       "5     1.0\n",
       "6     1.0"
      ]
     },
     "execution_count": 13,
     "metadata": {},
     "output_type": "execute_result"
    }
   ],
   "source": [
    "d1.change_weight(1,5)\n",
    "d1.show_die_state()"
   ]
  },
  {
   "cell_type": "markdown",
   "id": "f0ed31cb-0a3c-4eb2-b85e-6ed6b2eb6e58",
   "metadata": {},
   "source": [
    "Task 4. Play a game of $10000$ rolls with $5$ fair dice.\n",
    "\n",
    "- Game class properly instantiated (1). \n",
    "- Play method called properly (1)."
   ]
  },
  {
   "cell_type": "code",
   "execution_count": 58,
   "id": "bdc619d5-a2cc-428e-bedf-fffaaf764055",
   "metadata": {},
   "outputs": [],
   "source": [
    "game1 = Game([d2,d2,d2,d2,d2])\n",
    "game1.play(10000)"
   ]
  },
  {
   "cell_type": "markdown",
   "id": "7814b402-46a4-40e5-8141-20e05c3e646b",
   "metadata": {},
   "source": [
    "Task 5. Play another game of $10000$ rolls, this time with $2$ unfair dice, one as defined in steps #2 and #3 respectively, and $3$ fair dice.\n",
    "\n",
    "- Game class properly instantiated (1). \n",
    "- Play method called properly (1)."
   ]
  },
  {
   "cell_type": "code",
   "execution_count": 59,
   "id": "7cd58fba-b2a5-4d5d-bc6d-2a7a68d18c4f",
   "metadata": {},
   "outputs": [],
   "source": [
    "game2 = Game([d1,d3])\n",
    "game2.play(10000)"
   ]
  },
  {
   "cell_type": "markdown",
   "id": "7b6cd372-2bb8-4df8-ade1-8f48bc300955",
   "metadata": {},
   "source": [
    "Task 6. For each game, use an Analyzer object to determine the relative frequency of jackpots and show your results, comparing the two relative frequencies, in a simple bar chart.\n",
    "\n",
    "- Jackpot methods called (1).\n",
    "- Graph produced (1)."
   ]
  },
  {
   "cell_type": "code",
   "execution_count": 60,
   "id": "bbdcf695-8937-406e-9b53-aa0b9ee3c59a",
   "metadata": {},
   "outputs": [
    {
     "data": {
      "text/plain": [
       "<Axes: xlabel='Game'>"
      ]
     },
     "execution_count": 60,
     "metadata": {},
     "output_type": "execute_result"
    },
    {
     "data": {
      "image/png": "[encoded data removed]",
      "text/plain": [
       "<Figure size 640x480 with 1 Axes>"
      ]
     },
     "metadata": {},
     "output_type": "display_data"
    }
   ],
   "source": [
    "j1_rf = Analyzer(game1).JackPot()/10000\n",
    "j2_rf = Analyzer(game2).JackPot()/10000\n",
    "\n",
    "rf_df2 = pd.DataFrame({\n",
    "    \"Game\":[\"fair\",\"un_fair\"],\n",
    "    \"Relative Frequencies\":[j1_rf,j2_rf]\n",
    "})\n",
    "\n",
    "rf_df2.plot(kind = \"bar\", x=\"Game\", y = \"Relative Frequencies\")"
   ]
  },
  {
   "cell_type": "markdown",
   "id": "9f04e9be-8fcf-4ea4-a391-6614608285f8",
   "metadata": {},
   "source": [
    "## Scenario 3: Letters of the Alphabet (7)\n",
    "\n",
    "Task 1. Create a \"die\" of letters from $A$ to $Z$ with weights based on their frequency of usage as found in the data file `english_letters.txt`. Use the frequencies (i.e. raw counts) as weights.\n",
    "\n",
    "- Die correctly instantiated with source file data (1).\n",
    "- Weights properly applied using weight setting method (1)."
   ]
  },
  {
   "cell_type": "markdown",
   "id": "88e2e14a-6223-470a-a2c8-bca1120d7a5b",
   "metadata": {},
   "source": [
    "Task 2. Play a game involving $4$ of these dice with $1000$ rolls.\n",
    "\n",
    "- Game play method properly called (1)."
   ]
  },
  {
   "cell_type": "code",
   "execution_count": 17,
   "id": "b0ceb771-3cdf-4d8f-8c2c-020806bbb909",
   "metadata": {},
   "outputs": [],
   "source": [
    "\n",
    "#with open(\"english_letters.txt\",\"r\") as infile:\n",
    "#    file_list = [line.rstrip() for line in infile.readlines()]\n",
    "\n",
    "list_2d = [[cell.strip()\n",
    "            for cell in line.rstrip().split(\" \")]\n",
    "            for line in open(\"english_letters.txt\",\"r\").readlines()]#read in file of english letters frequenceies, convert to a 2d list\n",
    "\n",
    "converted_list = [[str(item[0]), int(item[1])] for item in list_2d] # convert 2d list to correct types\n",
    "\n",
    "dict_of_list = {item[0]: item[1] for item in converted_list} # convert to a dictionary\n",
    "\n",
    "letters = Die(np.array(\"A B C D E F G H I J K L M N O P Q R S T U V W X Y Z\".split())) #create a Die object from the english letters\n",
    "\n",
    "for k, v in dict_of_list.items(): #iterate through the dictionary\n",
    "    letters.change_weight(k,v) #change the frequencies"
   ]
  },
  {
   "cell_type": "code",
   "execution_count": 18,
   "id": "2ae087cc-936d-4f1e-bddb-a7c179d139e0",
   "metadata": {},
   "outputs": [],
   "source": [
    "scrabble = Game([letters,letters,letters,letters])\n",
    "scrabble.play(1000)"
   ]
  },
  {
   "cell_type": "markdown",
   "id": "3b9ff800-bf1f-4f66-9d7f-ff57a648e9f0",
   "metadata": {},
   "source": [
    "Task 3. Determine how many permutations in your results are actual English words, based on the vocabulary found in `scrabble_words.txt`.\n",
    "\n",
    "- Use permutation method (1).\n",
    "- Get count as difference between permutations and vocabulary (1)."
   ]
  },
  {
   "cell_type": "code",
   "execution_count": 19,
   "id": "0acd5bec-6e36-4207-9b86-5c00379ca428",
   "metadata": {},
   "outputs": [],
   "source": [
    "vocab = [[cell.strip()\n",
    "            for cell in line.rstrip().split(\" \")]\n",
    "            for line in open(\"scrabble_words.txt\",\"r\").readlines()] #read in file of the vocab words from scrabble\n",
    "vocab = [str(item[0]) for item in vocab] #convert to string"
   ]
  },
  {
   "cell_type": "code",
   "execution_count": 61,
   "id": "ed1c7fa0-cfa3-4cf4-9fd0-9f84b86b0f64",
   "metadata": {},
   "outputs": [
    {
     "name": "stdout",
     "output_type": "stream",
     "text": [
      "45\n"
     ]
    }
   ],
   "source": [
    "words = Analyzer(scrabble).PermCounts() #calculate the perumtations, returns tuples\n",
    "\n",
    "words = [''.join(word) for word in words.index] #turn tuples into a \"word\"\n",
    "\n",
    "def is_word(dictionary_list, words_list): #function to check if elements of list are in another list\n",
    "    set1 = set(words_list)\n",
    "    set2 = set(dictionary_list)\n",
    "\n",
    "    common = list(set1 & set2) #find the intersection of two sets of the inputs\n",
    "    return len(common) #return the number of words that were in the \"scrabble words\"\n",
    "\n",
    "print(is_word(vocab,words))"
   ]
  },
  {
   "cell_type": "markdown",
   "id": "fcf068cf-381a-4b3e-ac3a-0510eb4dbdb0",
   "metadata": {},
   "source": [
    "Task 4. Repeat steps #2 and #3, this time with $5$ dice. How many actual words does this produce? Which produces more?\n",
    "\n",
    "- Successfully repreats steps (1).\n",
    "- Identifies parameter with most found words (1)."
   ]
  },
  {
   "cell_type": "code",
   "execution_count": 62,
   "id": "a9695def-d425-4e97-9d94-fdd75137c859",
   "metadata": {},
   "outputs": [],
   "source": [
    "scrabble2 = Game([letters,letters,letters,letters,letters])\n",
    "scrabble2.play(1000)\n"
   ]
  },
  {
   "cell_type": "code",
   "execution_count": 63,
   "id": "97111bdc-fc0e-47d1-8da5-8b81f56415da",
   "metadata": {},
   "outputs": [
    {
     "name": "stdout",
     "output_type": "stream",
     "text": [
      "11\n"
     ]
    }
   ],
   "source": [
    "words2 = Analyzer(scrabble2).PermCounts()\n",
    "words2 = [''.join(word) for word in words2.index]\n",
    "\n",
    "print(is_word(vocab,words2))"
   ]
  },
  {
   "cell_type": "code",
   "execution_count": null,
   "id": "053342a0-4f56-4fc9-9762-948a9ae0a80e",
   "metadata": {},
   "outputs": [],
   "source": []
  }
 ],
 "metadata": {
  "kernelspec": {
   "display_name": "Python 3 (ipykernel)",
   "language": "python",
   "name": "python3"
  },
  "language_info": {
   "codemirror_mode": {
    "name": "ipython",
    "version": 3
   },
   "file_extension": ".py",
   "mimetype": "text/x-python",
   "name": "python",
   "nbconvert_exporter": "python",
   "pygments_lexer": "ipython3",
   "version": "3.12.5"
  },
  "toc-autonumbering": true,
  "widgets": {
   "application/vnd.jupyter.widget-state+json": {
    "state": {},
    "version_major": 2,
    "version_minor": 0
   }
  }
 },
 "nbformat": 4,
 "nbformat_minor": 5
}
